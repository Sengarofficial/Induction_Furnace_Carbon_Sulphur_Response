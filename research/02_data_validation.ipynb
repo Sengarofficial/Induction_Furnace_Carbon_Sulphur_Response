{
 "cells": [
  {
   "cell_type": "code",
   "execution_count": 1,
   "metadata": {},
   "outputs": [],
   "source": [
    "import os"
   ]
  },
  {
   "cell_type": "code",
   "execution_count": 2,
   "metadata": {},
   "outputs": [
    {
     "data": {
      "text/plain": [
       "'c:\\\\Users\\\\admin\\\\Desktop\\\\Induction_Furnace_Carbon_Sulphur_Response\\\\research'"
      ]
     },
     "execution_count": 2,
     "metadata": {},
     "output_type": "execute_result"
    }
   ],
   "source": [
    "%pwd"
   ]
  },
  {
   "cell_type": "code",
   "execution_count": 3,
   "metadata": {},
   "outputs": [],
   "source": [
    "os.chdir(\"../\")"
   ]
  },
  {
   "cell_type": "code",
   "execution_count": 4,
   "metadata": {},
   "outputs": [
    {
     "data": {
      "text/plain": [
       "'c:\\\\Users\\\\admin\\\\Desktop\\\\Induction_Furnace_Carbon_Sulphur_Response'"
      ]
     },
     "execution_count": 4,
     "metadata": {},
     "output_type": "execute_result"
    }
   ],
   "source": [
    "%pwd"
   ]
  },
  {
   "cell_type": "code",
   "execution_count": 5,
   "metadata": {},
   "outputs": [],
   "source": [
    "# data validation \n",
    "\n",
    "import pandas as pd"
   ]
  },
  {
   "cell_type": "code",
   "execution_count": 6,
   "metadata": {},
   "outputs": [
    {
     "data": {
      "text/html": [
       "<div>\n",
       "<style scoped>\n",
       "    .dataframe tbody tr th:only-of-type {\n",
       "        vertical-align: middle;\n",
       "    }\n",
       "\n",
       "    .dataframe tbody tr th {\n",
       "        vertical-align: top;\n",
       "    }\n",
       "\n",
       "    .dataframe thead th {\n",
       "        text-align: right;\n",
       "    }\n",
       "</style>\n",
       "<table border=\"1\" class=\"dataframe\">\n",
       "  <thead>\n",
       "    <tr style=\"text-align: right;\">\n",
       "      <th></th>\n",
       "      <th>LADDLE_TEMP</th>\n",
       "      <th>CASTING_TEMP</th>\n",
       "      <th>AVG_POWER_PER_HEAT_KW</th>\n",
       "      <th>POWER_CONSUMED_KWH</th>\n",
       "      <th>FURNACE_COOLING_PRESSURE</th>\n",
       "      <th>CONVERTOR_COOLING_PRESSURE</th>\n",
       "      <th>SPONGE_IRON_MT</th>\n",
       "      <th>SCRAP_MT</th>\n",
       "      <th>PIG_IRON_KG</th>\n",
       "      <th>CPC_KG</th>\n",
       "      <th>SiMn_KG</th>\n",
       "      <th>AluminiumBar_KG</th>\n",
       "      <th>Carbon(C%)</th>\n",
       "      <th>Manganese(Mn%)</th>\n",
       "      <th>Silicon(Si%)</th>\n",
       "      <th>Sulphur(S%)</th>\n",
       "      <th>Phosphorous(P%)</th>\n",
       "      <th>MT_PRODUCTION_PER_HEAT</th>\n",
       "    </tr>\n",
       "  </thead>\n",
       "  <tbody>\n",
       "    <tr>\n",
       "      <th>0</th>\n",
       "      <td>1670</td>\n",
       "      <td>1622</td>\n",
       "      <td>6000</td>\n",
       "      <td>8700.0</td>\n",
       "      <td>0.18</td>\n",
       "      <td>0.21</td>\n",
       "      <td>3.5</td>\n",
       "      <td>12.5</td>\n",
       "      <td>700</td>\n",
       "      <td>100</td>\n",
       "      <td>12.5</td>\n",
       "      <td>2.0</td>\n",
       "      <td>0.15</td>\n",
       "      <td>0.6</td>\n",
       "      <td>0.7</td>\n",
       "      <td>0.024</td>\n",
       "      <td>0.018</td>\n",
       "      <td>13.5</td>\n",
       "    </tr>\n",
       "    <tr>\n",
       "      <th>1</th>\n",
       "      <td>1675</td>\n",
       "      <td>1618</td>\n",
       "      <td>5200</td>\n",
       "      <td>13260.0</td>\n",
       "      <td>0.18</td>\n",
       "      <td>0.22</td>\n",
       "      <td>4.5</td>\n",
       "      <td>12.0</td>\n",
       "      <td>500</td>\n",
       "      <td>60</td>\n",
       "      <td>9.5</td>\n",
       "      <td>2.0</td>\n",
       "      <td>0.18</td>\n",
       "      <td>0.7</td>\n",
       "      <td>0.8</td>\n",
       "      <td>0.022</td>\n",
       "      <td>0.017</td>\n",
       "      <td>12.5</td>\n",
       "    </tr>\n",
       "    <tr>\n",
       "      <th>2</th>\n",
       "      <td>1670</td>\n",
       "      <td>1625</td>\n",
       "      <td>5500</td>\n",
       "      <td>11550.0</td>\n",
       "      <td>0.18</td>\n",
       "      <td>0.23</td>\n",
       "      <td>4.5</td>\n",
       "      <td>12.0</td>\n",
       "      <td>500</td>\n",
       "      <td>60</td>\n",
       "      <td>10.0</td>\n",
       "      <td>2.0</td>\n",
       "      <td>0.17</td>\n",
       "      <td>0.7</td>\n",
       "      <td>0.8</td>\n",
       "      <td>0.021</td>\n",
       "      <td>0.017</td>\n",
       "      <td>12.3</td>\n",
       "    </tr>\n",
       "    <tr>\n",
       "      <th>3</th>\n",
       "      <td>1675</td>\n",
       "      <td>1628</td>\n",
       "      <td>6000</td>\n",
       "      <td>8700.0</td>\n",
       "      <td>0.18</td>\n",
       "      <td>0.23</td>\n",
       "      <td>10.5</td>\n",
       "      <td>4.5</td>\n",
       "      <td>1500</td>\n",
       "      <td>100</td>\n",
       "      <td>12.5</td>\n",
       "      <td>2.0</td>\n",
       "      <td>0.17</td>\n",
       "      <td>0.5</td>\n",
       "      <td>0.7</td>\n",
       "      <td>0.015</td>\n",
       "      <td>0.016</td>\n",
       "      <td>12.0</td>\n",
       "    </tr>\n",
       "    <tr>\n",
       "      <th>4</th>\n",
       "      <td>1670</td>\n",
       "      <td>1626</td>\n",
       "      <td>6000</td>\n",
       "      <td>9000.0</td>\n",
       "      <td>0.19</td>\n",
       "      <td>0.24</td>\n",
       "      <td>10.5</td>\n",
       "      <td>4.5</td>\n",
       "      <td>1500</td>\n",
       "      <td>100</td>\n",
       "      <td>12.5</td>\n",
       "      <td>2.0</td>\n",
       "      <td>0.18</td>\n",
       "      <td>0.6</td>\n",
       "      <td>0.8</td>\n",
       "      <td>0.016</td>\n",
       "      <td>0.018</td>\n",
       "      <td>12.5</td>\n",
       "    </tr>\n",
       "  </tbody>\n",
       "</table>\n",
       "</div>"
      ],
      "text/plain": [
       "   LADDLE_TEMP  CASTING_TEMP  AVG_POWER_PER_HEAT_KW  POWER_CONSUMED_KWH  \\\n",
       "0         1670          1622                   6000              8700.0   \n",
       "1         1675          1618                   5200             13260.0   \n",
       "2         1670          1625                   5500             11550.0   \n",
       "3         1675          1628                   6000              8700.0   \n",
       "4         1670          1626                   6000              9000.0   \n",
       "\n",
       "   FURNACE_COOLING_PRESSURE  CONVERTOR_COOLING_PRESSURE  SPONGE_IRON_MT  \\\n",
       "0                      0.18                        0.21             3.5   \n",
       "1                      0.18                        0.22             4.5   \n",
       "2                      0.18                        0.23             4.5   \n",
       "3                      0.18                        0.23            10.5   \n",
       "4                      0.19                        0.24            10.5   \n",
       "\n",
       "   SCRAP_MT  PIG_IRON_KG  CPC_KG  SiMn_KG  AluminiumBar_KG  Carbon(C%)  \\\n",
       "0      12.5          700     100     12.5              2.0        0.15   \n",
       "1      12.0          500      60      9.5              2.0        0.18   \n",
       "2      12.0          500      60     10.0              2.0        0.17   \n",
       "3       4.5         1500     100     12.5              2.0        0.17   \n",
       "4       4.5         1500     100     12.5              2.0        0.18   \n",
       "\n",
       "   Manganese(Mn%)  Silicon(Si%)  Sulphur(S%)  Phosphorous(P%)  \\\n",
       "0             0.6           0.7        0.024            0.018   \n",
       "1             0.7           0.8        0.022            0.017   \n",
       "2             0.7           0.8        0.021            0.017   \n",
       "3             0.5           0.7        0.015            0.016   \n",
       "4             0.6           0.8        0.016            0.018   \n",
       "\n",
       "   MT_PRODUCTION_PER_HEAT  \n",
       "0                    13.5  \n",
       "1                    12.5  \n",
       "2                    12.3  \n",
       "3                    12.0  \n",
       "4                    12.5  "
      ]
     },
     "execution_count": 6,
     "metadata": {},
     "output_type": "execute_result"
    }
   ],
   "source": [
    "data = pd.read_csv(\"artifacts/data_ingestion/Mild_Steel.csv\")\n",
    "data.head()"
   ]
  },
  {
   "cell_type": "code",
   "execution_count": 7,
   "metadata": {},
   "outputs": [
    {
     "name": "stdout",
     "output_type": "stream",
     "text": [
      "<class 'pandas.core.frame.DataFrame'>\n",
      "RangeIndex: 10830 entries, 0 to 10829\n",
      "Data columns (total 18 columns):\n",
      " #   Column                      Non-Null Count  Dtype  \n",
      "---  ------                      --------------  -----  \n",
      " 0   LADDLE_TEMP                 10830 non-null  int64  \n",
      " 1   CASTING_TEMP                10830 non-null  int64  \n",
      " 2   AVG_POWER_PER_HEAT_KW       10830 non-null  int64  \n",
      " 3   POWER_CONSUMED_KWH          10830 non-null  float64\n",
      " 4   FURNACE_COOLING_PRESSURE    10830 non-null  float64\n",
      " 5   CONVERTOR_COOLING_PRESSURE  10830 non-null  float64\n",
      " 6   SPONGE_IRON_MT              10830 non-null  float64\n",
      " 7   SCRAP_MT                    10830 non-null  float64\n",
      " 8   PIG_IRON_KG                 10830 non-null  int64  \n",
      " 9   CPC_KG                      10830 non-null  int64  \n",
      " 10  SiMn_KG                     10830 non-null  float64\n",
      " 11  AluminiumBar_KG             10830 non-null  float64\n",
      " 12  Carbon(C%)                  10830 non-null  float64\n",
      " 13  Manganese(Mn%)              10830 non-null  float64\n",
      " 14  Silicon(Si%)                10830 non-null  float64\n",
      " 15  Sulphur(S%)                 10830 non-null  float64\n",
      " 16  Phosphorous(P%)             10830 non-null  float64\n",
      " 17  MT_PRODUCTION_PER_HEAT      10830 non-null  float64\n",
      "dtypes: float64(13), int64(5)\n",
      "memory usage: 1.5 MB\n"
     ]
    }
   ],
   "source": [
    "data.info()"
   ]
  },
  {
   "cell_type": "code",
   "execution_count": 8,
   "metadata": {},
   "outputs": [
    {
     "data": {
      "text/plain": [
       "LADDLE_TEMP                   0\n",
       "CASTING_TEMP                  0\n",
       "AVG_POWER_PER_HEAT_KW         0\n",
       "POWER_CONSUMED_KWH            0\n",
       "FURNACE_COOLING_PRESSURE      0\n",
       "CONVERTOR_COOLING_PRESSURE    0\n",
       "SPONGE_IRON_MT                0\n",
       "SCRAP_MT                      0\n",
       "PIG_IRON_KG                   0\n",
       "CPC_KG                        0\n",
       "SiMn_KG                       0\n",
       "AluminiumBar_KG               0\n",
       "Carbon(C%)                    0\n",
       "Manganese(Mn%)                0\n",
       "Silicon(Si%)                  0\n",
       "Sulphur(S%)                   0\n",
       "Phosphorous(P%)               0\n",
       "MT_PRODUCTION_PER_HEAT        0\n",
       "dtype: int64"
      ]
     },
     "execution_count": 8,
     "metadata": {},
     "output_type": "execute_result"
    }
   ],
   "source": [
    "data.isnull().sum()"
   ]
  },
  {
   "cell_type": "code",
   "execution_count": 9,
   "metadata": {},
   "outputs": [
    {
     "data": {
      "text/plain": [
       "(10830, 18)"
      ]
     },
     "execution_count": 9,
     "metadata": {},
     "output_type": "execute_result"
    }
   ],
   "source": [
    "data.shape"
   ]
  },
  {
   "cell_type": "code",
   "execution_count": 10,
   "metadata": {},
   "outputs": [],
   "source": [
    "# prepare entity \n",
    "\n",
    "from dataclasses import dataclass\n",
    "from pathlib import Path \n",
    "\n",
    "\n",
    "@dataclass(frozen = True)\n",
    "class DataValidationConfig:\n",
    "    root_dir: Path\n",
    "    STATUS_FILE: str\n",
    "    valid_data_dir: Path\n",
    "    all_schema: dict"
   ]
  },
  {
   "cell_type": "code",
   "execution_count": 11,
   "metadata": {},
   "outputs": [],
   "source": [
    "from src.Mlflow_Project.constants import *\n",
    "from src.Mlflow_Project.utils.utility import FileOperations"
   ]
  },
  {
   "cell_type": "code",
   "execution_count": 16,
   "metadata": {},
   "outputs": [],
   "source": [
    "# configuration manager class , will read all yaml files \n",
    "\n",
    "class ConfigurationManager:\n",
    "    def __init__(\n",
    "        self,\n",
    "        config_filepath = CONFIG_FILE_PATH,\n",
    "        params_filepath = PARAMS_FILE_PATH,\n",
    "        schema_filepath = SCHEMA_FILE_PATH):\n",
    "\n",
    "        self.config = FileOperations.read_yaml(config_filepath)\n",
    "        self.params = FileOperations.read_yaml(params_filepath)\n",
    "        self.schema = FileOperations.read_yaml(schema_filepath)\n",
    "\n",
    "        FileOperations.create_directories([self.config.artifacts_root])\n",
    "\n",
    "    \n",
    "    def get_data_validation_config(self) -> DataValidationConfig:\n",
    "        config = self.config.data_validation\n",
    "        schema = self.schema.COLUMNS\n",
    "\n",
    "\n",
    "        FileOperations.create_directories([config.root_dir])\n",
    "\n",
    "        data_validation_config = DataValidationConfig(\n",
    "            root_dir = config.root_dir,\n",
    "            STATUS_FILE = config.STATUS_FILE,\n",
    "            valid_data_dir = config.valid_data_dir,\n",
    "            all_schema=schema,\n",
    "        \n",
    "    )\n",
    "\n",
    "\n",
    "        return data_validation_config"
   ]
  },
  {
   "cell_type": "code",
   "execution_count": 13,
   "metadata": {},
   "outputs": [],
   "source": [
    "# Building componets \n",
    "\n",
    "import os \n",
    "from src.Mlflow_Project.__init__ import logger "
   ]
  },
  {
   "cell_type": "code",
   "execution_count": 1,
   "metadata": {},
   "outputs": [
    {
     "ename": "NameError",
     "evalue": "name 'DataValidationConfig' is not defined",
     "output_type": "error",
     "traceback": [
      "\u001b[1;31m---------------------------------------------------------------------------\u001b[0m",
      "\u001b[1;31mNameError\u001b[0m                                 Traceback (most recent call last)",
      "\u001b[1;32mc:\\Users\\admin\\Desktop\\Induction_Furnace_Carbon_Sulphur_Response\\research\\02_data_validation.ipynb Cell 14\u001b[0m line \u001b[0;36m1\n\u001b[1;32m----> <a href='vscode-notebook-cell:/c%3A/Users/admin/Desktop/Induction_Furnace_Carbon_Sulphur_Response/research/02_data_validation.ipynb#X16sZmlsZQ%3D%3D?line=0'>1</a>\u001b[0m \u001b[39mclass\u001b[39;49;00m \u001b[39mDataValidation\u001b[39;49;00m:\n\u001b[0;32m      <a href='vscode-notebook-cell:/c%3A/Users/admin/Desktop/Induction_Furnace_Carbon_Sulphur_Response/research/02_data_validation.ipynb#X16sZmlsZQ%3D%3D?line=1'>2</a>\u001b[0m     \u001b[39mdef\u001b[39;49;00m \u001b[39m__init__\u001b[39;49m(\u001b[39mself\u001b[39;49m, config: DataValidationConfig):\n\u001b[0;32m      <a href='vscode-notebook-cell:/c%3A/Users/admin/Desktop/Induction_Furnace_Carbon_Sulphur_Response/research/02_data_validation.ipynb#X16sZmlsZQ%3D%3D?line=2'>3</a>\u001b[0m         \u001b[39mself\u001b[39;49m\u001b[39m.\u001b[39;49mconfig \u001b[39m=\u001b[39;49m config \n",
      "\u001b[1;32mc:\\Users\\admin\\Desktop\\Induction_Furnace_Carbon_Sulphur_Response\\research\\02_data_validation.ipynb Cell 14\u001b[0m line \u001b[0;36m2\n\u001b[0;32m      <a href='vscode-notebook-cell:/c%3A/Users/admin/Desktop/Induction_Furnace_Carbon_Sulphur_Response/research/02_data_validation.ipynb#X16sZmlsZQ%3D%3D?line=0'>1</a>\u001b[0m \u001b[39mclass\u001b[39;00m \u001b[39mDataValidation\u001b[39;00m:\n\u001b[1;32m----> <a href='vscode-notebook-cell:/c%3A/Users/admin/Desktop/Induction_Furnace_Carbon_Sulphur_Response/research/02_data_validation.ipynb#X16sZmlsZQ%3D%3D?line=1'>2</a>\u001b[0m     \u001b[39mdef\u001b[39;00m \u001b[39m__init__\u001b[39m(\u001b[39mself\u001b[39m, config: DataValidationConfig):\n\u001b[0;32m      <a href='vscode-notebook-cell:/c%3A/Users/admin/Desktop/Induction_Furnace_Carbon_Sulphur_Response/research/02_data_validation.ipynb#X16sZmlsZQ%3D%3D?line=2'>3</a>\u001b[0m         \u001b[39mself\u001b[39m\u001b[39m.\u001b[39mconfig \u001b[39m=\u001b[39m config \n\u001b[0;32m      <a href='vscode-notebook-cell:/c%3A/Users/admin/Desktop/Induction_Furnace_Carbon_Sulphur_Response/research/02_data_validation.ipynb#X16sZmlsZQ%3D%3D?line=5'>6</a>\u001b[0m     \u001b[39m# validating all columns \u001b[39;00m\n",
      "\u001b[1;31mNameError\u001b[0m: name 'DataValidationConfig' is not defined"
     ]
    }
   ],
   "source": [
    "class DataValidation:\n",
    "    def __init__(self, config: DataValidationConfig):\n",
    "        self.config = config \n",
    "\n",
    "\n",
    "    # validating all columns \n",
    "\n",
    "    def validate_all_columns(self) -> bool:\n",
    "        try:\n",
    "            validation_status = None \n",
    "\n",
    "            data = pd.read_csv(self.config.valid_data_dir)\n",
    "            all_cols = list(data.columns)\n",
    "\n",
    "\n",
    "            all_schema = self.config.all_schema.keys()\n",
    "\n",
    "\n",
    "            for col in all_cols:\n",
    "                if col not in all_schema:\n",
    "                    validation_status = False \n",
    "                    with open(self.config.STATUS_FILE, \"w\") as f:\n",
    "                        f.write(f\"Validation status: {validation_status}\")\n",
    "\n",
    "                else:\n",
    "                    validation_status = True\n",
    "                    with open(self.config.STATUS_FILE, \"w\") as f:\n",
    "                        f.write(f\"Validation status: {validation_status}\")\n",
    "\n",
    "\n",
    "            return validation_status\n",
    "        \n",
    "        except Exception as e:\n",
    "            print(\"An error occurred:\", e)\n",
    "\n",
    "        "
   ]
  },
  {
   "cell_type": "code",
   "execution_count": 20,
   "metadata": {},
   "outputs": [
    {
     "name": "stdout",
     "output_type": "stream",
     "text": [
      "[2023-11-09 13:18:49,691: INFO: yaml file: config\\config.yaml loaded successfully]\n",
      "[2023-11-09 13:18:49,694: INFO: yaml file: params.yaml loaded successfully]\n",
      "[2023-11-09 13:18:49,705: INFO: yaml file: schema.yaml loaded successfully]\n",
      "[2023-11-09 13:18:49,708: INFO: created directory at: artifacts]\n",
      "[2023-11-09 13:18:49,710: INFO: created directory at: artifacts/data_validation]\n"
     ]
    }
   ],
   "source": [
    "# initializing my pipeline \n",
    "\n",
    "try:\n",
    "    config = ConfigurationManager()\n",
    "    data_validation_config = config.get_data_validation_config()\n",
    "    data_validation = DataValidation(config = data_validation_config)\n",
    "    data_validation.validate_all_columns()\n",
    "except Exception as e:\n",
    "    print(\"An error occurred:\", e)"
   ]
  },
  {
   "cell_type": "code",
   "execution_count": null,
   "metadata": {},
   "outputs": [],
   "source": []
  }
 ],
 "metadata": {
  "kernelspec": {
   "display_name": ".venv",
   "language": "python",
   "name": "python3"
  },
  "language_info": {
   "codemirror_mode": {
    "name": "ipython",
    "version": 3
   },
   "file_extension": ".py",
   "mimetype": "text/x-python",
   "name": "python",
   "nbconvert_exporter": "python",
   "pygments_lexer": "ipython3",
   "version": "3.11.3"
  }
 },
 "nbformat": 4,
 "nbformat_minor": 2
}
