{
 "cells": [
  {
   "cell_type": "code",
   "execution_count": 1,
   "metadata": {},
   "outputs": [],
   "source": [
    "import os "
   ]
  },
  {
   "cell_type": "code",
   "execution_count": 2,
   "metadata": {},
   "outputs": [
    {
     "data": {
      "text/plain": [
       "'c:\\\\Users\\\\admin\\\\Desktop\\\\Induction_Furnace_Carbon_Sulphur_Response\\\\research'"
      ]
     },
     "execution_count": 2,
     "metadata": {},
     "output_type": "execute_result"
    }
   ],
   "source": [
    "%pwd"
   ]
  },
  {
   "cell_type": "code",
   "execution_count": 3,
   "metadata": {},
   "outputs": [],
   "source": [
    "os.chdir(\"../\")"
   ]
  },
  {
   "cell_type": "code",
   "execution_count": 4,
   "metadata": {},
   "outputs": [
    {
     "data": {
      "text/plain": [
       "'c:\\\\Users\\\\admin\\\\Desktop\\\\Induction_Furnace_Carbon_Sulphur_Response'"
      ]
     },
     "execution_count": 4,
     "metadata": {},
     "output_type": "execute_result"
    }
   ],
   "source": [
    "%pwd"
   ]
  },
  {
   "cell_type": "code",
   "execution_count": 1,
   "metadata": {},
   "outputs": [
    {
     "ename": "NameError",
     "evalue": "name 'data' is not defined",
     "output_type": "error",
     "traceback": [
      "\u001b[1;31m---------------------------------------------------------------------------\u001b[0m",
      "\u001b[1;31mNameError\u001b[0m                                 Traceback (most recent call last)",
      "\u001b[1;32mc:\\Users\\admin\\Desktop\\Induction_Furnace_Carbon_Sulphur_Response\\research\\model_trainer.ipynb Cell 5\u001b[0m line \u001b[0;36m9\n\u001b[0;32m      <a href='vscode-notebook-cell:/c%3A/Users/admin/Desktop/Induction_Furnace_Carbon_Sulphur_Response/research/model_trainer.ipynb#W4sZmlsZQ%3D%3D?line=3'>4</a>\u001b[0m \u001b[39mfrom\u001b[39;00m \u001b[39msklearn\u001b[39;00m\u001b[39m.\u001b[39;00m\u001b[39mmetrics\u001b[39;00m \u001b[39mimport\u001b[39;00m mean_squared_error\n\u001b[0;32m      <a href='vscode-notebook-cell:/c%3A/Users/admin/Desktop/Induction_Furnace_Carbon_Sulphur_Response/research/model_trainer.ipynb#W4sZmlsZQ%3D%3D?line=5'>6</a>\u001b[0m \u001b[39m# Assuming 'data' is your loaded dataset\u001b[39;00m\n\u001b[0;32m      <a href='vscode-notebook-cell:/c%3A/Users/admin/Desktop/Induction_Furnace_Carbon_Sulphur_Response/research/model_trainer.ipynb#W4sZmlsZQ%3D%3D?line=6'>7</a>\u001b[0m \n\u001b[0;32m      <a href='vscode-notebook-cell:/c%3A/Users/admin/Desktop/Induction_Furnace_Carbon_Sulphur_Response/research/model_trainer.ipynb#W4sZmlsZQ%3D%3D?line=7'>8</a>\u001b[0m \u001b[39m# Separating features and targets\u001b[39;00m\n\u001b[1;32m----> <a href='vscode-notebook-cell:/c%3A/Users/admin/Desktop/Induction_Furnace_Carbon_Sulphur_Response/research/model_trainer.ipynb#W4sZmlsZQ%3D%3D?line=8'>9</a>\u001b[0m features \u001b[39m=\u001b[39m data[[\u001b[39m'\u001b[39m\u001b[39mLADDLE_TEMP\u001b[39m\u001b[39m'\u001b[39m, \u001b[39m'\u001b[39m\u001b[39mCASTING_TEMP\u001b[39m\u001b[39m'\u001b[39m, \u001b[39m.\u001b[39m\u001b[39m.\u001b[39m\u001b[39m.\u001b[39m]]  \u001b[39m# List all feature columns\u001b[39;00m\n\u001b[0;32m     <a href='vscode-notebook-cell:/c%3A/Users/admin/Desktop/Induction_Furnace_Carbon_Sulphur_Response/research/model_trainer.ipynb#W4sZmlsZQ%3D%3D?line=9'>10</a>\u001b[0m targets \u001b[39m=\u001b[39m data[[\u001b[39m'\u001b[39m\u001b[39mCarbon(C\u001b[39m\u001b[39m%\u001b[39m\u001b[39m)\u001b[39m\u001b[39m'\u001b[39m, \u001b[39m'\u001b[39m\u001b[39mSulphur(S\u001b[39m\u001b[39m%\u001b[39m\u001b[39m)\u001b[39m\u001b[39m'\u001b[39m]]  \u001b[39m# Target columns\u001b[39;00m\n\u001b[0;32m     <a href='vscode-notebook-cell:/c%3A/Users/admin/Desktop/Induction_Furnace_Carbon_Sulphur_Response/research/model_trainer.ipynb#W4sZmlsZQ%3D%3D?line=11'>12</a>\u001b[0m \u001b[39m# Splitting the data into train and test sets\u001b[39;00m\n",
      "\u001b[1;31mNameError\u001b[0m: name 'data' is not defined"
     ]
    }
   ],
   "source": [
    "from sklearn.model_selection import train_test_split\n",
    "from sklearn.multioutput import MultiOutputRegressor\n",
    "from sklearn.ensemble import RandomForestRegressor\n",
    "from sklearn.metrics import mean_squared_error\n",
    "\n",
    "# Assuming 'data' is your loaded dataset\n",
    "\n",
    "# Separating features and targets\n",
    "features = data[['LADDLE_TEMP', 'CASTING_TEMP', ...]]  # List all feature columns\n",
    "targets = data[['Carbon(C%)', 'Sulphur(S%)']]  # Target columns\n",
    "\n",
    "# Splitting the data into train and test sets\n",
    "X_train, X_test, y_train, y_test = train_test_split(features, targets, test_size=0.2, random_state=42)\n",
    "\n",
    "# Initialize the multi-target regressor model (e.g., RandomForestRegressor as the base regressor)\n",
    "base_regressor = RandomForestRegressor()\n",
    "multi_output_regressor = MultiOutputRegressor(base_regressor)\n",
    "\n",
    "# Train the multi-target regression model\n",
    "multi_output_regressor.fit(X_train, y_train)\n",
    "\n",
    "# Predict on the test set\n",
    "predictions = multi_output_regressor.predict(X_test)\n",
    "\n",
    "# Evaluate the model\n",
    "mse = mean_squared_error(y_test, predictions)\n",
    "print(f\"Mean Squared Error: {mse}\")\n"
   ]
  },
  {
   "cell_type": "code",
   "execution_count": 5,
   "metadata": {},
   "outputs": [],
   "source": [
    "# entity \n",
    "\n",
    "from dataclasses import dataclass \n",
    "from pathlib import Path \n",
    "\n",
    "\n",
    "\n",
    "@dataclass(frozen = True)\n",
    "class ModelTrainerConfig:\n",
    "    root_dir: Path \n",
    "    train_data_path: Path \n",
    "    test_data_path: Path\n",
    "    model_name: str\n",
    "    imputer_name: str\n",
    "    n_estimators: float\n",
    "    max_depth: float\n",
    "    target_column: str  "
   ]
  },
  {
   "cell_type": "code",
   "execution_count": 6,
   "metadata": {},
   "outputs": [],
   "source": [
    "from src.Mlflow_Project.constants import *\n",
    "from src.Mlflow_Project.utils.utility import FileOperations"
   ]
  },
  {
   "cell_type": "code",
   "execution_count": 7,
   "metadata": {},
   "outputs": [],
   "source": [
    "# configuration\n",
    "class ConfigurationManager:\n",
    "    def __init__(self,\n",
    "                 config_filepath = CONFIG_FILE_PATH,\n",
    "                 params_filepath = PARAMS_FILE_PATH,\n",
    "                 schema_filepath = SCHEMA_FILE_PATH):\n",
    "        \n",
    "        self.config = FileOperations.read_yaml(config_filepath)\n",
    "        self.params = FileOperations.read_yaml(params_filepath)\n",
    "        self.schema = FileOperations.read_yaml(schema_filepath)\n",
    "\n",
    "        FileOperations.create_directories([self.config.artifacts_root])\n",
    "\n",
    "\n",
    "    def get_model_trainer_config(self) -> ModelTrainerConfig:\n",
    "        config = self.config.model_trainer\n",
    "        params = self.params.RandomForestRegressor\n",
    "        schema = self.schema\n",
    "\n",
    "        FileOperations.create_directories([config.root_dir])\n",
    "\n",
    "        target_values = schema.get('TARGET_COLUMN', {})\n",
    "        target_column = {\n",
    "            'target_1': target_values.get('target_1'),\n",
    "            'target_2': target_values.get('target_2')\n",
    "        }\n",
    "\n",
    "        model_trainer_config = ModelTrainerConfig(\n",
    "            root_dir=config.root_dir,\n",
    "            train_data_path=config.train_data_path,\n",
    "            test_data_path=config.test_data_path,\n",
    "            model_name=config.model_name,\n",
    "            imputer_name = config.imputer_name,\n",
    "            n_estimators=params.n_estimators,\n",
    "            max_depth=params.max_depth,\n",
    "            target_column=target_column  # Assign target_1 and target_2 to target_column\n",
    "        )\n",
    "\n",
    "        return model_trainer_config\n"
   ]
  },
  {
   "cell_type": "code",
   "execution_count": 8,
   "metadata": {},
   "outputs": [],
   "source": [
    "# defining component\n",
    "\n",
    "import pandas as pd\n",
    "import joblib\n",
    "import os \n",
    "from src.Mlflow_Project.__init__ import logger \n",
    "from sklearn.ensemble import RandomForestRegressor\n",
    "from sklearn.multioutput import MultiOutputRegressor\n",
    "from sklearn.model_selection import RandomizedSearchCV\n",
    "from sklearn.metrics import mean_squared_error\n",
    "\n"
   ]
  },
  {
   "cell_type": "code",
   "execution_count": 11,
   "metadata": {},
   "outputs": [],
   "source": [
    "\n",
    "class ModelTrainer:\n",
    "    def __init__(self, config):\n",
    "        self.config = config\n",
    "\n",
    "    def train(self):\n",
    "        train_data = pd.read_csv(self.config.train_data_path)\n",
    "        test_data = pd.read_csv(self.config.test_data_path)\n",
    "\n",
    "        target_column_1 = self.config.target_column['target_1']\n",
    "        target_column_2 = self.config.target_column['target_2']\n",
    "\n",
    "        X_train = train_data.drop([target_column_1, target_column_2], axis=1)\n",
    "        X_test = test_data.drop([target_column_1, target_column_2], axis=1)\n",
    "        y_train = train_data[[target_column_1, target_column_2]]\n",
    "        y_test = test_data[[target_column_1, target_column_2]]\n",
    "\n",
    "        y_imputer = SimpleImputer(strategy='mean')  # You can change the strategy as needed\n",
    "        y_train_imputed = y_imputer.fit_transform(y_train)\n",
    "        y_test_imputed = y_imputer.transform(y_test)\n",
    "\n",
    "        param_grid = {\n",
    "            'estimator__n_estimators': [50, 100, 150],\n",
    "            'estimator__max_depth': [None, 5, 10, 15],\n",
    "            # Other parameters...\n",
    "        }\n",
    "\n",
    "        base_regressor = RandomForestRegressor(random_state=42)\n",
    "\n",
    "        multi_output_regressor = MultiOutputRegressor(base_regressor)\n",
    "\n",
    "        random_search = RandomizedSearchCV(\n",
    "            estimator=multi_output_regressor,\n",
    "            param_distributions=param_grid,\n",
    "            n_iter=10,\n",
    "            scoring='neg_mean_squared_error',\n",
    "            cv=5,\n",
    "            random_state=42\n",
    "        )\n",
    "\n",
    "        random_search.fit(X_train, y_train_imputed)\n",
    "\n",
    "        best_estimator = random_search.best_estimator_\n",
    "\n",
    "        predictions = best_estimator.predict(X_test)\n",
    "\n",
    "        mse = mean_squared_error(y_test_imputed, predictions)\n",
    "        print(f\"Mean Squared Error: {mse}\")\n",
    "\n",
    "        test_x = pd.DataFrame(X_test, columns=X_test.columns)\n",
    "        test_y = pd.DataFrame(y_test_imputed, columns=[target_column_1, target_column_2])\n",
    "\n",
    "        # Save the scaled datasets and target variables\n",
    "        test_x.to_csv(os.path.join(self.config.root_dir, \"test_x.csv\"), index=False)\n",
    "        test_y.to_csv(os.path.join(self.config.root_dir, \"test_y.csv\"), index=False)\n",
    "\n",
    "        joblib.dump(best_estimator, os.path.join(self.config.root_dir, self.config.model_name))\n",
    "        joblib.dump(y_imputer, os.path.join(self.config.root_dir, self.config.imputer_name))\n"
   ]
  },
  {
   "cell_type": "code",
   "execution_count": 12,
   "metadata": {},
   "outputs": [
    {
     "name": "stdout",
     "output_type": "stream",
     "text": [
      "[2023-11-17 09:21:13,122: INFO: yaml file: config\\config.yaml loaded successfully]\n",
      "[2023-11-17 09:21:13,126: INFO: yaml file: params.yaml loaded successfully]\n",
      "[2023-11-17 09:21:13,132: INFO: yaml file: schema.yaml loaded successfully]\n",
      "[2023-11-17 09:21:13,132: INFO: created directory at: artifacts]\n",
      "[2023-11-17 09:21:13,132: INFO: created directory at: artifacts/model_trainer]\n",
      "Mean Squared Error: 4.5245488051403895e-05\n"
     ]
    }
   ],
   "source": [
    "# Defining Pipeline \n",
    "\n",
    "try:\n",
    "    config = ConfigurationManager()\n",
    "    model_trainer_config = config.get_model_trainer_config()\n",
    "    model_trainer_config = ModelTrainer(config = model_trainer_config)\n",
    "    model_trainer_config.train()\n",
    "except Exception as e:\n",
    "    print(\"An error occurred:\", e)"
   ]
  },
  {
   "cell_type": "code",
   "execution_count": null,
   "metadata": {},
   "outputs": [],
   "source": []
  }
 ],
 "metadata": {
  "kernelspec": {
   "display_name": ".venv",
   "language": "python",
   "name": "python3"
  },
  "language_info": {
   "codemirror_mode": {
    "name": "ipython",
    "version": 3
   },
   "file_extension": ".py",
   "mimetype": "text/x-python",
   "name": "python",
   "nbconvert_exporter": "python",
   "pygments_lexer": "ipython3",
   "version": "3.11.3"
  }
 },
 "nbformat": 4,
 "nbformat_minor": 2
}
